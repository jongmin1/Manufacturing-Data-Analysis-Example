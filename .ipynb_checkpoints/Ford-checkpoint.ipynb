{
 "cells": [
  {
   "cell_type": "code",
   "execution_count": 20,
   "id": "2769db2d-7830-45ea-acaa-18aedac9a8b7",
   "metadata": {},
   "outputs": [],
   "source": [
    "import itertools\n",
    "from time import time\n",
    "import numpy as np\n",
    "import pandas as pd\n",
    "import matplotlib.pyplot as plt\n",
    "from scipy.io.arff import loadarff\n",
    "from sklearn.preprocessing import StandardScaler, RobustScaler\n",
    "import tensorflow as tf"
   ]
  },
  {
   "cell_type": "code",
   "execution_count": 26,
   "id": "8578dcce-f2f8-4393-9cd8-8476b08c2de3",
   "metadata": {},
   "outputs": [],
   "source": [
    "def read_file(file_path_url):\n",
    "    \"\"\"\n",
    "    .tsv 확장자를 load하기 위한 함수\n",
    "    \"\"\"\n",
    "    return np.loadtxt(file_path_url, delimiter=\"\\t\")\n",
    "\n",
    "root_url = \"https://raw.githubusercontent.com/hfawaz/cd-diagram/master/FordA/\"\n",
    "\n",
    "train = read_file(root_url + \"FordA_TRAIN.tsv\")\n",
    "test = read_file(root_url + \"FordA_TEST.tsv\")"
   ]
  },
  {
   "cell_type": "code",
   "execution_count": 27,
   "id": "478d221e-3ae3-4c67-b614-e33af220c56e",
   "metadata": {},
   "outputs": [
    {
     "name": "stdout",
     "output_type": "stream",
     "text": [
      "train set : (3601, 501)\n",
      "test set : (1320, 501)\n"
     ]
    }
   ],
   "source": [
    "print(f'train set : {train.shape}')\n",
    "print(f'test set : {test.shape}')"
   ]
  },
  {
   "cell_type": "code",
   "execution_count": 28,
   "id": "ad8a3bfe-aae7-40b3-9a06-6f108549b67f",
   "metadata": {},
   "outputs": [
    {
     "data": {
      "text/plain": [
       "array([[-1.        , -0.79717168, -0.66439208, ..., -0.66439208,\n",
       "        -1.0737958 , -1.5643427 ],\n",
       "       [ 1.        ,  0.80485472,  0.63462859, ..., -0.71488505,\n",
       "        -0.56044294, -0.31908642],\n",
       "       [-1.        ,  0.7279851 ,  0.11128392, ...,  0.39446303,\n",
       "         0.33940042,  0.25539062],\n",
       "       ...,\n",
       "       [-1.        , -0.57005428, -0.33316523, ..., -1.3937145 ,\n",
       "        -0.94273327, -0.27072168],\n",
       "       [ 1.        ,  2.0067321 ,  2.0791499 , ..., -0.43214504,\n",
       "        -0.44123126, -0.28070891],\n",
       "       [-1.        , -0.12524091, -0.32536268, ...,  0.55576053,\n",
       "         0.57445102,  0.57311598]])"
      ]
     },
     "execution_count": 28,
     "metadata": {},
     "output_type": "execute_result"
    }
   ],
   "source": [
    "train"
   ]
  },
  {
   "cell_type": "code",
   "execution_count": 29,
   "id": "f03563b3-38cc-430b-ba97-5d56f75c2751",
   "metadata": {
    "scrolled": true
   },
   "outputs": [
    {
     "data": {
      "text/plain": [
       "(1320, 500)"
      ]
     },
     "execution_count": 29,
     "metadata": {},
     "output_type": "execute_result"
    }
   ],
   "source": [
    "x_train_temp = train[:, 1:]\n",
    "y_train_temp = train[:,0]\n",
    "x_test = test[:, 1:]\n",
    "y_test = test[:, 0]\n",
    "\n",
    "x_test.shape"
   ]
  },
  {
   "cell_type": "code",
   "execution_count": 30,
   "id": "694a30b2-3a56-45b6-b720-3ee1e98ecd6e",
   "metadata": {},
   "outputs": [],
   "source": [
    "normal_x = x_train_temp[y_train_temp==1] # 정상 데이터\n",
    "abnormal_x = x_train_temp[y_train_temp==-1] # 비정상 데이터\n",
    "normal_y = y_train_temp[y_train_temp==1] # 정상 데이터\n",
    "abnormal_y = y_train_temp[y_train_temp==-1] # 비정상 데이터\n",
    "\n",
    "ind_x_normal = int(normal_x.shape[0]*0.8)\n",
    "ind_y_normal = int(normal_y.shape[0]*0.8)\n",
    "ind_x_abnormal = int(abnormal_x.shape[0]*0.8)\n",
    "ind_y_abnormal = int(abnormal_y.shape[0]*0.8)\n",
    "\n",
    "x_train = np.concatenate((normal_x[:ind_x_normal], abnormal_x[:ind_x_abnormal]), axis=0)\n",
    "x_valid = np.concatenate((normal_x[ind_x_normal:], abnormal_x[ind_x_abnormal:]), axis=0)\n",
    "y_train = np.concatenate((normal_y[:ind_y_normal], abnormal_y[:ind_y_abnormal]), axis=0)\n",
    "y_valid = np.concatenate((normal_y[ind_y_normal:], abnormal_y[ind_y_abnormal:]), axis=0)\n"
   ]
  },
  {
   "cell_type": "code",
   "execution_count": 32,
   "id": "65e26e9a-f25f-436a-a711-3d1174ce5d08",
   "metadata": {},
   "outputs": [
    {
     "name": "stdout",
     "output_type": "stream",
     "text": [
      "x_train : (2880, 500)\n",
      "x_valid : (721, 500)\n",
      "y_train : (2880,)\n",
      "y_valid : (721,)\n",
      "x_test : (1320, 500)\n",
      "y_test : (1320,)\n"
     ]
    }
   ],
   "source": [
    "print(f'x_train : {x_train.shape}')\n",
    "print(f'x_valid : {x_valid.shape}')\n",
    "print(f'y_train : {y_train.shape}')\n",
    "print(f'y_valid : {y_valid.shape}')\n",
    "print(f'x_test : {x_test.shape}')\n",
    "print(f'y_test : {y_test.shape}')"
   ]
  },
  {
   "cell_type": "code",
   "execution_count": 34,
   "id": "ce9dd0a9-0abc-4309-b87d-b6e120f05ac3",
   "metadata": {},
   "outputs": [],
   "source": [
    "t= pd.DataFrame(x_train)"
   ]
  },
  {
   "cell_type": "code",
   "execution_count": 36,
   "id": "61492f46-0690-40b7-8686-95d037e57c9a",
   "metadata": {},
   "outputs": [
    {
     "data": {
      "text/html": [
       "<div>\n",
       "<style scoped>\n",
       "    .dataframe tbody tr th:only-of-type {\n",
       "        vertical-align: middle;\n",
       "    }\n",
       "\n",
       "    .dataframe tbody tr th {\n",
       "        vertical-align: top;\n",
       "    }\n",
       "\n",
       "    .dataframe thead th {\n",
       "        text-align: right;\n",
       "    }\n",
       "</style>\n",
       "<table border=\"1\" class=\"dataframe\">\n",
       "  <thead>\n",
       "    <tr style=\"text-align: right;\">\n",
       "      <th></th>\n",
       "      <th>0</th>\n",
       "      <th>1</th>\n",
       "      <th>2</th>\n",
       "      <th>3</th>\n",
       "      <th>4</th>\n",
       "      <th>5</th>\n",
       "      <th>6</th>\n",
       "      <th>7</th>\n",
       "      <th>8</th>\n",
       "      <th>9</th>\n",
       "      <th>...</th>\n",
       "      <th>490</th>\n",
       "      <th>491</th>\n",
       "      <th>492</th>\n",
       "      <th>493</th>\n",
       "      <th>494</th>\n",
       "      <th>495</th>\n",
       "      <th>496</th>\n",
       "      <th>497</th>\n",
       "      <th>498</th>\n",
       "      <th>499</th>\n",
       "    </tr>\n",
       "  </thead>\n",
       "  <tbody>\n",
       "    <tr>\n",
       "      <th>count</th>\n",
       "      <td>2880.000000</td>\n",
       "      <td>2880.000000</td>\n",
       "      <td>2880.000000</td>\n",
       "      <td>2880.000000</td>\n",
       "      <td>2880.000000</td>\n",
       "      <td>2880.000000</td>\n",
       "      <td>2880.000000</td>\n",
       "      <td>2880.000000</td>\n",
       "      <td>2880.000000</td>\n",
       "      <td>2880.000000</td>\n",
       "      <td>...</td>\n",
       "      <td>2880.000000</td>\n",
       "      <td>2880.000000</td>\n",
       "      <td>2880.000000</td>\n",
       "      <td>2880.000000</td>\n",
       "      <td>2880.000000</td>\n",
       "      <td>2880.000000</td>\n",
       "      <td>2880.000000</td>\n",
       "      <td>2880.000000</td>\n",
       "      <td>2880.000000</td>\n",
       "      <td>2880.000000</td>\n",
       "    </tr>\n",
       "    <tr>\n",
       "      <th>mean</th>\n",
       "      <td>-0.006612</td>\n",
       "      <td>-0.005835</td>\n",
       "      <td>-0.005141</td>\n",
       "      <td>-0.004644</td>\n",
       "      <td>-0.004041</td>\n",
       "      <td>-0.003028</td>\n",
       "      <td>-0.001976</td>\n",
       "      <td>-0.001234</td>\n",
       "      <td>-0.000214</td>\n",
       "      <td>0.001009</td>\n",
       "      <td>...</td>\n",
       "      <td>0.007640</td>\n",
       "      <td>0.002018</td>\n",
       "      <td>-0.003279</td>\n",
       "      <td>-0.007149</td>\n",
       "      <td>-0.009111</td>\n",
       "      <td>-0.008858</td>\n",
       "      <td>-0.007010</td>\n",
       "      <td>-0.004317</td>\n",
       "      <td>-0.002043</td>\n",
       "      <td>-0.000777</td>\n",
       "    </tr>\n",
       "    <tr>\n",
       "      <th>std</th>\n",
       "      <td>1.056276</td>\n",
       "      <td>1.049125</td>\n",
       "      <td>1.040250</td>\n",
       "      <td>1.035974</td>\n",
       "      <td>1.038893</td>\n",
       "      <td>1.045368</td>\n",
       "      <td>1.050779</td>\n",
       "      <td>1.053785</td>\n",
       "      <td>1.053510</td>\n",
       "      <td>1.048907</td>\n",
       "      <td>...</td>\n",
       "      <td>1.030171</td>\n",
       "      <td>1.036273</td>\n",
       "      <td>1.040039</td>\n",
       "      <td>1.037669</td>\n",
       "      <td>1.028380</td>\n",
       "      <td>1.016052</td>\n",
       "      <td>1.006376</td>\n",
       "      <td>1.004939</td>\n",
       "      <td>1.012181</td>\n",
       "      <td>1.022349</td>\n",
       "    </tr>\n",
       "    <tr>\n",
       "      <th>min</th>\n",
       "      <td>-3.621992</td>\n",
       "      <td>-3.656912</td>\n",
       "      <td>-3.479467</td>\n",
       "      <td>-3.595350</td>\n",
       "      <td>-3.773891</td>\n",
       "      <td>-3.914729</td>\n",
       "      <td>-3.855301</td>\n",
       "      <td>-4.497360</td>\n",
       "      <td>-4.552591</td>\n",
       "      <td>-4.000282</td>\n",
       "      <td>...</td>\n",
       "      <td>-4.402103</td>\n",
       "      <td>-4.073011</td>\n",
       "      <td>-4.014450</td>\n",
       "      <td>-3.817036</td>\n",
       "      <td>-3.574256</td>\n",
       "      <td>-3.746353</td>\n",
       "      <td>-3.680805</td>\n",
       "      <td>-3.904569</td>\n",
       "      <td>-4.221550</td>\n",
       "      <td>-4.076032</td>\n",
       "    </tr>\n",
       "    <tr>\n",
       "      <th>25%</th>\n",
       "      <td>-0.667287</td>\n",
       "      <td>-0.679503</td>\n",
       "      <td>-0.661183</td>\n",
       "      <td>-0.678013</td>\n",
       "      <td>-0.673209</td>\n",
       "      <td>-0.691053</td>\n",
       "      <td>-0.680994</td>\n",
       "      <td>-0.701824</td>\n",
       "      <td>-0.692365</td>\n",
       "      <td>-0.705015</td>\n",
       "      <td>...</td>\n",
       "      <td>-0.657362</td>\n",
       "      <td>-0.689183</td>\n",
       "      <td>-0.692009</td>\n",
       "      <td>-0.685933</td>\n",
       "      <td>-0.689603</td>\n",
       "      <td>-0.650944</td>\n",
       "      <td>-0.656942</td>\n",
       "      <td>-0.665302</td>\n",
       "      <td>-0.654452</td>\n",
       "      <td>-0.667009</td>\n",
       "    </tr>\n",
       "    <tr>\n",
       "      <th>50%</th>\n",
       "      <td>-0.003481</td>\n",
       "      <td>0.004969</td>\n",
       "      <td>0.003251</td>\n",
       "      <td>0.017964</td>\n",
       "      <td>0.019574</td>\n",
       "      <td>0.004306</td>\n",
       "      <td>-0.011986</td>\n",
       "      <td>-0.027023</td>\n",
       "      <td>0.001051</td>\n",
       "      <td>-0.003465</td>\n",
       "      <td>...</td>\n",
       "      <td>-0.001553</td>\n",
       "      <td>-0.004061</td>\n",
       "      <td>-0.011649</td>\n",
       "      <td>-0.001849</td>\n",
       "      <td>-0.012408</td>\n",
       "      <td>-0.015965</td>\n",
       "      <td>-0.005780</td>\n",
       "      <td>-0.005162</td>\n",
       "      <td>-0.011682</td>\n",
       "      <td>-0.005045</td>\n",
       "    </tr>\n",
       "    <tr>\n",
       "      <th>75%</th>\n",
       "      <td>0.675998</td>\n",
       "      <td>0.675068</td>\n",
       "      <td>0.690344</td>\n",
       "      <td>0.683146</td>\n",
       "      <td>0.707652</td>\n",
       "      <td>0.688924</td>\n",
       "      <td>0.722476</td>\n",
       "      <td>0.702209</td>\n",
       "      <td>0.706301</td>\n",
       "      <td>0.687975</td>\n",
       "      <td>...</td>\n",
       "      <td>0.694822</td>\n",
       "      <td>0.690616</td>\n",
       "      <td>0.707321</td>\n",
       "      <td>0.686459</td>\n",
       "      <td>0.666254</td>\n",
       "      <td>0.653207</td>\n",
       "      <td>0.653725</td>\n",
       "      <td>0.656713</td>\n",
       "      <td>0.679171</td>\n",
       "      <td>0.683913</td>\n",
       "    </tr>\n",
       "    <tr>\n",
       "      <th>max</th>\n",
       "      <td>3.386165</td>\n",
       "      <td>3.277230</td>\n",
       "      <td>3.251610</td>\n",
       "      <td>3.259646</td>\n",
       "      <td>3.010194</td>\n",
       "      <td>3.605585</td>\n",
       "      <td>3.895870</td>\n",
       "      <td>3.741035</td>\n",
       "      <td>3.630933</td>\n",
       "      <td>3.338995</td>\n",
       "      <td>...</td>\n",
       "      <td>3.971919</td>\n",
       "      <td>3.522197</td>\n",
       "      <td>3.842693</td>\n",
       "      <td>3.916653</td>\n",
       "      <td>3.670118</td>\n",
       "      <td>3.567879</td>\n",
       "      <td>3.333855</td>\n",
       "      <td>3.151876</td>\n",
       "      <td>3.623390</td>\n",
       "      <td>4.349744</td>\n",
       "    </tr>\n",
       "  </tbody>\n",
       "</table>\n",
       "<p>8 rows × 500 columns</p>\n",
       "</div>"
      ],
      "text/plain": [
       "               0            1            2            3            4    \\\n",
       "count  2880.000000  2880.000000  2880.000000  2880.000000  2880.000000   \n",
       "mean     -0.006612    -0.005835    -0.005141    -0.004644    -0.004041   \n",
       "std       1.056276     1.049125     1.040250     1.035974     1.038893   \n",
       "min      -3.621992    -3.656912    -3.479467    -3.595350    -3.773891   \n",
       "25%      -0.667287    -0.679503    -0.661183    -0.678013    -0.673209   \n",
       "50%      -0.003481     0.004969     0.003251     0.017964     0.019574   \n",
       "75%       0.675998     0.675068     0.690344     0.683146     0.707652   \n",
       "max       3.386165     3.277230     3.251610     3.259646     3.010194   \n",
       "\n",
       "               5            6            7            8            9    ...  \\\n",
       "count  2880.000000  2880.000000  2880.000000  2880.000000  2880.000000  ...   \n",
       "mean     -0.003028    -0.001976    -0.001234    -0.000214     0.001009  ...   \n",
       "std       1.045368     1.050779     1.053785     1.053510     1.048907  ...   \n",
       "min      -3.914729    -3.855301    -4.497360    -4.552591    -4.000282  ...   \n",
       "25%      -0.691053    -0.680994    -0.701824    -0.692365    -0.705015  ...   \n",
       "50%       0.004306    -0.011986    -0.027023     0.001051    -0.003465  ...   \n",
       "75%       0.688924     0.722476     0.702209     0.706301     0.687975  ...   \n",
       "max       3.605585     3.895870     3.741035     3.630933     3.338995  ...   \n",
       "\n",
       "               490          491          492          493          494  \\\n",
       "count  2880.000000  2880.000000  2880.000000  2880.000000  2880.000000   \n",
       "mean      0.007640     0.002018    -0.003279    -0.007149    -0.009111   \n",
       "std       1.030171     1.036273     1.040039     1.037669     1.028380   \n",
       "min      -4.402103    -4.073011    -4.014450    -3.817036    -3.574256   \n",
       "25%      -0.657362    -0.689183    -0.692009    -0.685933    -0.689603   \n",
       "50%      -0.001553    -0.004061    -0.011649    -0.001849    -0.012408   \n",
       "75%       0.694822     0.690616     0.707321     0.686459     0.666254   \n",
       "max       3.971919     3.522197     3.842693     3.916653     3.670118   \n",
       "\n",
       "               495          496          497          498          499  \n",
       "count  2880.000000  2880.000000  2880.000000  2880.000000  2880.000000  \n",
       "mean     -0.008858    -0.007010    -0.004317    -0.002043    -0.000777  \n",
       "std       1.016052     1.006376     1.004939     1.012181     1.022349  \n",
       "min      -3.746353    -3.680805    -3.904569    -4.221550    -4.076032  \n",
       "25%      -0.650944    -0.656942    -0.665302    -0.654452    -0.667009  \n",
       "50%      -0.015965    -0.005780    -0.005162    -0.011682    -0.005045  \n",
       "75%       0.653207     0.653725     0.656713     0.679171     0.683913  \n",
       "max       3.567879     3.333855     3.151876     3.623390     4.349744  \n",
       "\n",
       "[8 rows x 500 columns]"
      ]
     },
     "execution_count": 36,
     "metadata": {},
     "output_type": "execute_result"
    }
   ],
   "source": [
    "t.describe()"
   ]
  },
  {
   "cell_type": "markdown",
   "id": "b63e71ff-fedf-4d6d-8ced-f531fc3a1974",
   "metadata": {},
   "source": [
    "## 데이터 불균형 (Data Imbalance) 확인"
   ]
  },
  {
   "cell_type": "code",
   "execution_count": 37,
   "id": "9ff31888-76bc-443c-beea-4bda99ab1b04",
   "metadata": {},
   "outputs": [
    {
     "name": "stdout",
     "output_type": "stream",
     "text": [
      "(2,)\n"
     ]
    }
   ],
   "source": [
    "classes = np.unique(np.concatenate((y_train, y_test), axis=0))\n",
    "print(classes.shape)\n",
    "\n",
    "x = np.arange(len(classes)) # plot의 x축의 개수 구하기\n",
    "labels = [\"abnormal\", \"normal\"]\n",
    "\n",
    "values_train = [(y_train == i).sum() for i in classes]\n",
    "values_valid = [(y_valid == i).sum() for i in classes]\n",
    "values_test = [(y_test == i).sum() for i in classes]\n",
    "\n"
   ]
  },
  {
   "cell_type": "code",
   "execution_count": 44,
   "id": "ac866260-bc6d-4ae7-952d-0186f6e0cb70",
   "metadata": {},
   "outputs": [
    {
     "data": {
      "image/png": "[encoded data removed]",
      "text/plain": [
       "<Figure size 800x400 with 2 Axes>"
      ]
     },
     "metadata": {},
     "output_type": "display_data"
    },
    {
     "data": {
      "image/png": "[encoded data removed]",
      "text/plain": [
       "<Figure size 800x400 with 2 Axes>"
      ]
     },
     "metadata": {},
     "output_type": "display_data"
    },
    {
     "data": {
      "image/png": "[encoded data removed]",
      "text/plain": [
       "<Figure size 800x400 with 1 Axes>"
      ]
     },
     "metadata": {},
     "output_type": "display_data"
    }
   ],
   "source": [
    "plt.figure(figsize=(8,4))\n",
    "\n",
    "plt.subplot(1,3,1)\n",
    "plt.title(\"Train data\")\n",
    "plt.bar(x, values_train, width=0.6, color=[\"red\", \"blue\"])\n",
    "plt.ylim([0, 1500])\n",
    "plt.xticks(x, labels)  # x축에 변수 기입\n",
    "\n",
    "plt.hubplot(1,3,2)\n",
    "plt.figure(figsize=(8,4))\n",
    "plt.title(\"Validation data\")\n",
    "plt.bar(x, values_valid, width=0.6, color=[\"red\", \"blue\"])\n",
    "plt.ylim([0, 1500])\n",
    "plt.xticks(x, labels)\n",
    "\n",
    "plt.shubplot(1,3,3)\n",
    "plt.figure(figsize=(8,4))\n",
    "plt.title(\"Test data\")\n",
    "plt.bar(x, values_test, width=0.6, color=[\"red\", \"blue\"])\n",
    "plt.ylim([0, 1500])\n",
    "plt.xticks(x, labels)\n",
    "\n",
    "plt.show()"
   ]
  },
  {
   "cell_type": "code",
   "execution_count": null,
   "id": "ca06aee8-138b-4d72-b0c5-40af272e0ded",
   "metadata": {},
   "outputs": [],
   "source": [
    "import random\n",
    "\n",
    "labels = np.unique(np.concatenate((y_train, y_test), aixs=0))\n",
    "\n",
    "plt.figure(figsize = (10, 4))\n",
    "\n",
    "for c in lables:\n",
    "    c_x_train = x_train[y_train==c]\n",
    "    if c == 01: c = c+1\n",
    "        time_t = random_randint(0, c_xtrain.shape[0])\n",
    "plt.scatter(range(0, 500), c_x_train[time_t], label=\"class = \" + str(int(c)), marker='o', s=5)\n",
    "\n",
    "plt.legend(loc=\"lower right\")\n",
    "plt.show()"
   ]
  }
 ],
 "metadata": {
  "kernelspec": {
   "display_name": "py3",
   "language": "python",
   "name": "py3"
  },
  "language_info": {
   "codemirror_mode": {
    "name": "ipython",
    "version": 3
   },
   "file_extension": ".py",
   "mimetype": "text/x-python",
   "name": "python",
   "nbconvert_exporter": "python",
   "pygments_lexer": "ipython3",
   "version": "3.10.14"
  }
 },
 "nbformat": 4,
 "nbformat_minor": 5
}
