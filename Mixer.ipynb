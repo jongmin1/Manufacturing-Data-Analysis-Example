{
 "cells": [
  {
   "cell_type": "code",
   "execution_count": 1,
   "id": "e27a781a-7961-4ce2-98ca-01cdeccb770a",
   "metadata": {},
   "outputs": [],
   "source": [
    "import pandas as pd\n",
    "import matplotlib.pyplot as plt"
   ]
  },
  {
   "cell_type": "code",
   "execution_count": 57,
   "id": "bcf1f2a4-78e9-4028-b5a9-d3c3f2183466",
   "metadata": {},
   "outputs": [
    {
     "data": {
      "text/html": [
       "<div>\n",
       "<style scoped>\n",
       "    .dataframe tbody tr th:only-of-type {\n",
       "        vertical-align: middle;\n",
       "    }\n",
       "\n",
       "    .dataframe tbody tr th {\n",
       "        vertical-align: top;\n",
       "    }\n",
       "\n",
       "    .dataframe thead th {\n",
       "        text-align: right;\n",
       "    }\n",
       "</style>\n",
       "<table border=\"1\" class=\"dataframe\">\n",
       "  <thead>\n",
       "    <tr style=\"text-align: right;\">\n",
       "      <th></th>\n",
       "      <th>Unnamed: 0</th>\n",
       "      <th>Date</th>\n",
       "      <th>Sensor</th>\n",
       "      <th>Quality</th>\n",
       "    </tr>\n",
       "  </thead>\n",
       "  <tbody>\n",
       "    <tr>\n",
       "      <th>0</th>\n",
       "      <td>0</td>\n",
       "      <td>2021-11-18T01:39:59.605000+00:00</td>\n",
       "      <td>0.064453</td>\n",
       "      <td>PASSED</td>\n",
       "    </tr>\n",
       "    <tr>\n",
       "      <th>1</th>\n",
       "      <td>1</td>\n",
       "      <td>2021-11-18T01:39:59.605000+00:00</td>\n",
       "      <td>0.240234</td>\n",
       "      <td>PASSED</td>\n",
       "    </tr>\n",
       "    <tr>\n",
       "      <th>2</th>\n",
       "      <td>2</td>\n",
       "      <td>2021-11-18T01:39:59.605000+00:00</td>\n",
       "      <td>-0.128906</td>\n",
       "      <td>PASSED</td>\n",
       "    </tr>\n",
       "    <tr>\n",
       "      <th>3</th>\n",
       "      <td>3</td>\n",
       "      <td>2021-11-18T01:39:59.605000+00:00</td>\n",
       "      <td>-0.925781</td>\n",
       "      <td>PASSED</td>\n",
       "    </tr>\n",
       "    <tr>\n",
       "      <th>4</th>\n",
       "      <td>4</td>\n",
       "      <td>2021-11-18T01:39:59.605000+00:00</td>\n",
       "      <td>-1.037109</td>\n",
       "      <td>PASSED</td>\n",
       "    </tr>\n",
       "  </tbody>\n",
       "</table>\n",
       "</div>"
      ],
      "text/plain": [
       "   Unnamed: 0                              Date    Sensor Quality\n",
       "0           0  2021-11-18T01:39:59.605000+00:00  0.064453  PASSED\n",
       "1           1  2021-11-18T01:39:59.605000+00:00  0.240234  PASSED\n",
       "2           2  2021-11-18T01:39:59.605000+00:00 -0.128906  PASSED\n",
       "3           3  2021-11-18T01:39:59.605000+00:00 -0.925781  PASSED\n",
       "4           4  2021-11-18T01:39:59.605000+00:00 -1.037109  PASSED"
      ]
     },
     "execution_count": 57,
     "metadata": {},
     "output_type": "execute_result"
    }
   ],
   "source": [
    "data = pd.read_csv(r\"C:/Users/whdal/dataset/mixer/mixing_actuator.csv\")\n",
    "data.head()"
   ]
  },
  {
   "cell_type": "code",
   "execution_count": 58,
   "id": "67a9114a-73c4-4f0d-811a-95be75a690b1",
   "metadata": {},
   "outputs": [
    {
     "name": "stdout",
     "output_type": "stream",
     "text": [
      "count    351232.000000\n",
      "mean         -0.108910\n",
      "std           2.563446\n",
      "min          -9.023438\n",
      "25%          -1.992188\n",
      "50%          -0.140625\n",
      "75%           1.843750\n",
      "max           9.203906\n",
      "Name: Sensor, dtype: float64\n"
     ]
    },
    {
     "data": {
      "text/plain": [
       "[<matplotlib.lines.Line2D at 0x1e6e0834760>]"
      ]
     },
     "execution_count": 58,
     "metadata": {},
     "output_type": "execute_result"
    },
    {
     "data": {
      "image/png": "[encoded data removed]",
      "text/plain": [
       "<Figure size 640x480 with 1 Axes>"
      ]
     },
     "metadata": {},
     "output_type": "display_data"
    }
   ],
   "source": [
    "print(data['Sensor'].describe())\n",
    "plt.plot(data['Sensor'])"
   ]
  },
  {
   "cell_type": "code",
   "execution_count": 59,
   "id": "951a4970-52ec-42d2-ad18-1f8ad004f772",
   "metadata": {},
   "outputs": [
    {
     "data": {
      "text/plain": [
       "Quality\n",
       "PASSED    191008\n",
       "FAILED    160224\n",
       "Name: count, dtype: int64"
      ]
     },
     "execution_count": 59,
     "metadata": {},
     "output_type": "execute_result"
    }
   ],
   "source": [
    "data['Quality'].value_counts()"
   ]
  },
  {
   "cell_type": "code",
   "execution_count": 60,
   "id": "14d8e170-8cca-4b5b-8355-e24d2579eec9",
   "metadata": {},
   "outputs": [
    {
     "data": {
      "text/html": [
       "<div>\n",
       "<style scoped>\n",
       "    .dataframe tbody tr th:only-of-type {\n",
       "        vertical-align: middle;\n",
       "    }\n",
       "\n",
       "    .dataframe tbody tr th {\n",
       "        vertical-align: top;\n",
       "    }\n",
       "\n",
       "    .dataframe thead th {\n",
       "        text-align: right;\n",
       "    }\n",
       "</style>\n",
       "<table border=\"1\" class=\"dataframe\">\n",
       "  <thead>\n",
       "    <tr style=\"text-align: right;\">\n",
       "      <th></th>\n",
       "      <th>Date</th>\n",
       "      <th>Sensor</th>\n",
       "      <th>Quality</th>\n",
       "    </tr>\n",
       "  </thead>\n",
       "  <tbody>\n",
       "    <tr>\n",
       "      <th>0</th>\n",
       "      <td>2021-11-18T01:39:59.605000+00:00</td>\n",
       "      <td>0.064453</td>\n",
       "      <td>PASSED</td>\n",
       "    </tr>\n",
       "    <tr>\n",
       "      <th>1</th>\n",
       "      <td>2021-11-18T01:39:59.605000+00:00</td>\n",
       "      <td>0.240234</td>\n",
       "      <td>PASSED</td>\n",
       "    </tr>\n",
       "    <tr>\n",
       "      <th>2</th>\n",
       "      <td>2021-11-18T01:39:59.605000+00:00</td>\n",
       "      <td>-0.128906</td>\n",
       "      <td>PASSED</td>\n",
       "    </tr>\n",
       "    <tr>\n",
       "      <th>3</th>\n",
       "      <td>2021-11-18T01:39:59.605000+00:00</td>\n",
       "      <td>-0.925781</td>\n",
       "      <td>PASSED</td>\n",
       "    </tr>\n",
       "    <tr>\n",
       "      <th>4</th>\n",
       "      <td>2021-11-18T01:39:59.605000+00:00</td>\n",
       "      <td>-1.037109</td>\n",
       "      <td>PASSED</td>\n",
       "    </tr>\n",
       "  </tbody>\n",
       "</table>\n",
       "</div>"
      ],
      "text/plain": [
       "                               Date    Sensor Quality\n",
       "0  2021-11-18T01:39:59.605000+00:00  0.064453  PASSED\n",
       "1  2021-11-18T01:39:59.605000+00:00  0.240234  PASSED\n",
       "2  2021-11-18T01:39:59.605000+00:00 -0.128906  PASSED\n",
       "3  2021-11-18T01:39:59.605000+00:00 -0.925781  PASSED\n",
       "4  2021-11-18T01:39:59.605000+00:00 -1.037109  PASSED"
      ]
     },
     "execution_count": 60,
     "metadata": {},
     "output_type": "execute_result"
    }
   ],
   "source": [
    "data = data.drop(['Unnamed: 0'], axis=1)\n",
    "data.head()"
   ]
  },
  {
   "cell_type": "code",
   "execution_count": 61,
   "id": "2cf6f247-e2fa-4093-b492-be1af83903ed",
   "metadata": {},
   "outputs": [],
   "source": [
    "sec = []\n",
    "\n",
    "sec_num = 0\n",
    "\n",
    "for i in range(len(data)):\n",
    "    sec_num += 1\n",
    "    sec.append(sec_num)\n",
    "    \n",
    "    if sec_num == 1024: sec_num = 0\n",
    "    else: sec_num = sec_num"
   ]
  },
  {
   "cell_type": "code",
   "execution_count": 62,
   "id": "ac5e2cba-8819-44ff-8fa4-6550c6121da7",
   "metadata": {},
   "outputs": [
    {
     "data": {
      "text/html": [
       "<div>\n",
       "<style scoped>\n",
       "    .dataframe tbody tr th:only-of-type {\n",
       "        vertical-align: middle;\n",
       "    }\n",
       "\n",
       "    .dataframe tbody tr th {\n",
       "        vertical-align: top;\n",
       "    }\n",
       "\n",
       "    .dataframe thead th {\n",
       "        text-align: right;\n",
       "    }\n",
       "</style>\n",
       "<table border=\"1\" class=\"dataframe\">\n",
       "  <thead>\n",
       "    <tr style=\"text-align: right;\">\n",
       "      <th></th>\n",
       "      <th>Date</th>\n",
       "      <th>Sensor</th>\n",
       "      <th>Quality</th>\n",
       "      <th>sec</th>\n",
       "    </tr>\n",
       "  </thead>\n",
       "  <tbody>\n",
       "    <tr>\n",
       "      <th>0</th>\n",
       "      <td>2021-11-18T01:39:59.605000+00:00</td>\n",
       "      <td>0.064453</td>\n",
       "      <td>PASSED</td>\n",
       "      <td>1</td>\n",
       "    </tr>\n",
       "    <tr>\n",
       "      <th>1</th>\n",
       "      <td>2021-11-18T01:39:59.605000+00:00</td>\n",
       "      <td>0.240234</td>\n",
       "      <td>PASSED</td>\n",
       "      <td>2</td>\n",
       "    </tr>\n",
       "    <tr>\n",
       "      <th>2</th>\n",
       "      <td>2021-11-18T01:39:59.605000+00:00</td>\n",
       "      <td>-0.128906</td>\n",
       "      <td>PASSED</td>\n",
       "      <td>3</td>\n",
       "    </tr>\n",
       "    <tr>\n",
       "      <th>3</th>\n",
       "      <td>2021-11-18T01:39:59.605000+00:00</td>\n",
       "      <td>-0.925781</td>\n",
       "      <td>PASSED</td>\n",
       "      <td>4</td>\n",
       "    </tr>\n",
       "    <tr>\n",
       "      <th>4</th>\n",
       "      <td>2021-11-18T01:39:59.605000+00:00</td>\n",
       "      <td>-1.037109</td>\n",
       "      <td>PASSED</td>\n",
       "      <td>5</td>\n",
       "    </tr>\n",
       "    <tr>\n",
       "      <th>...</th>\n",
       "      <td>...</td>\n",
       "      <td>...</td>\n",
       "      <td>...</td>\n",
       "      <td>...</td>\n",
       "    </tr>\n",
       "    <tr>\n",
       "      <th>351227</th>\n",
       "      <td>2021-11-20T07:48:34.533000+00:00</td>\n",
       "      <td>0.262500</td>\n",
       "      <td>PASSED</td>\n",
       "      <td>1020</td>\n",
       "    </tr>\n",
       "    <tr>\n",
       "      <th>351228</th>\n",
       "      <td>2021-11-20T07:48:34.533000+00:00</td>\n",
       "      <td>0.273438</td>\n",
       "      <td>PASSED</td>\n",
       "      <td>1021</td>\n",
       "    </tr>\n",
       "    <tr>\n",
       "      <th>351229</th>\n",
       "      <td>2021-11-20T07:48:34.533000+00:00</td>\n",
       "      <td>1.796875</td>\n",
       "      <td>PASSED</td>\n",
       "      <td>1022</td>\n",
       "    </tr>\n",
       "    <tr>\n",
       "      <th>351230</th>\n",
       "      <td>2021-11-20T07:48:34.533000+00:00</td>\n",
       "      <td>2.406250</td>\n",
       "      <td>FAILED</td>\n",
       "      <td>1023</td>\n",
       "    </tr>\n",
       "    <tr>\n",
       "      <th>351231</th>\n",
       "      <td>2021-11-20T07:48:34.533000+00:00</td>\n",
       "      <td>0.742188</td>\n",
       "      <td>PASSED</td>\n",
       "      <td>1024</td>\n",
       "    </tr>\n",
       "  </tbody>\n",
       "</table>\n",
       "<p>351232 rows × 4 columns</p>\n",
       "</div>"
      ],
      "text/plain": [
       "                                    Date    Sensor Quality   sec\n",
       "0       2021-11-18T01:39:59.605000+00:00  0.064453  PASSED     1\n",
       "1       2021-11-18T01:39:59.605000+00:00  0.240234  PASSED     2\n",
       "2       2021-11-18T01:39:59.605000+00:00 -0.128906  PASSED     3\n",
       "3       2021-11-18T01:39:59.605000+00:00 -0.925781  PASSED     4\n",
       "4       2021-11-18T01:39:59.605000+00:00 -1.037109  PASSED     5\n",
       "...                                  ...       ...     ...   ...\n",
       "351227  2021-11-20T07:48:34.533000+00:00  0.262500  PASSED  1020\n",
       "351228  2021-11-20T07:48:34.533000+00:00  0.273438  PASSED  1021\n",
       "351229  2021-11-20T07:48:34.533000+00:00  1.796875  PASSED  1022\n",
       "351230  2021-11-20T07:48:34.533000+00:00  2.406250  FAILED  1023\n",
       "351231  2021-11-20T07:48:34.533000+00:00  0.742188  PASSED  1024\n",
       "\n",
       "[351232 rows x 4 columns]"
      ]
     },
     "execution_count": 62,
     "metadata": {},
     "output_type": "execute_result"
    }
   ],
   "source": [
    "data['sec'] = sec\n",
    "data"
   ]
  },
  {
   "cell_type": "code",
   "execution_count": 63,
   "id": "649a6e50-fc75-4b34-a597-c1e606b8d9ed",
   "metadata": {},
   "outputs": [],
   "source": [
    "import numpy as np\n",
    "from sklearn.model_selection import train_test_split"
   ]
  },
  {
   "cell_type": "code",
   "execution_count": 64,
   "id": "2f645134-962d-4ef3-8615-d61eab4e75ec",
   "metadata": {},
   "outputs": [],
   "source": [
    "X = data['sec']\n",
    "y = data['Sensor']"
   ]
  },
  {
   "cell_type": "code",
   "execution_count": 65,
   "id": "5bf804e6-f1d1-4956-a984-e9e1ccbd6d83",
   "metadata": {},
   "outputs": [],
   "source": [
    "# 시간의 흐름에 따라 추출되는 데이터에 대해 유연하게 불량 여부 판정이므로 shuffle X\n",
    "X_train, X_test, y_train, y_test = train_test_split(X, y, \n",
    "            test_size=0.2, random_state=0, shuffle=False)\n",
    "\n",
    "X_train = X_train.values\n",
    "X_test = X_test.values\n",
    "\n",
    "y_train = y_train.values\n",
    "y_test = y_test.values\n",
    "\n",
    "X_train = X_train.reshape(X_train.shape[0], 1)\n",
    "X_test = X_test.reshape(X_test.shape[0], 1)\n",
    "\n"
   ]
  },
  {
   "cell_type": "code",
   "execution_count": 66,
   "id": "9dad6eb2-c6da-44be-84e1-de54c12a7dd7",
   "metadata": {},
   "outputs": [
    {
     "data": {
      "text/plain": [
       "array([[ 410],\n",
       "       [ 411],\n",
       "       [ 412],\n",
       "       ...,\n",
       "       [1022],\n",
       "       [1023],\n",
       "       [1024]], dtype=int64)"
      ]
     },
     "execution_count": 66,
     "metadata": {},
     "output_type": "execute_result"
    }
   ],
   "source": [
    "X_test"
   ]
  },
  {
   "cell_type": "code",
   "execution_count": 67,
   "id": "7f20cbfe-06e0-4a4c-82a1-cdba2617553d",
   "metadata": {},
   "outputs": [],
   "source": [
    "from sklearn.neighbors import KNeighborsRegressor\n",
    "from sklearn import neighbors\n",
    "from math import sqrt\n",
    "from sklearn.metrics import mean_squared_error\n"
   ]
  },
  {
   "cell_type": "code",
   "execution_count": 68,
   "id": "2d1689a2-2b56-4573-8826-76b587261f9b",
   "metadata": {},
   "outputs": [
    {
     "name": "stdout",
     "output_type": "stream",
     "text": [
      "RMSE value for k = 1 is 3.155654543139498\n",
      "RMSE value for k = 2 is 2.7940511832357706\n",
      "RMSE value for k = 3 is 2.7189076961300462\n",
      "RMSE value for k = 4 is 2.6320664649038235\n",
      "RMSE value for k = 5 is 2.6424135191562894\n",
      "RMSE value for k = 6 is 2.6619964616940703\n",
      "RMSE value for k = 7 is 2.6087162196247706\n",
      "RMSE value for k = 8 is 2.61889414958276\n",
      "RMSE value for k = 9 is 2.6058137842309006\n",
      "RMSE value for k = 10 is 2.5780566469224624\n",
      "RMSE value for k = 11 is 2.5777371983399378\n",
      "RMSE value for k = 12 is 2.5765581184601403\n",
      "RMSE value for k = 13 is 2.553720719255234\n",
      "RMSE value for k = 14 is 2.5601407984724442\n",
      "RMSE value for k = 15 is 2.5675579570136913\n",
      "RMSE value for k = 16 is 2.5510966581338117\n",
      "RMSE value for k = 17 is 2.5524771658531944\n"
     ]
    }
   ],
   "source": [
    "rmse_val = []\n",
    "\n",
    "for K in range(17):\n",
    "    K = K+1\n",
    "    model = neighbors.KNeighborsRegressor(n_neighbors=K, weights='distance')\n",
    "    \n",
    "    model.fit(X_train, y_train)\n",
    "    pred = model.predict(X_test)\n",
    "    error = sqrt(mean_squared_error(y_test, pred))\n",
    "    rmse_val.append(error)\n",
    "    print(f'RMSE value for k = {K} is {error}')"
   ]
  },
  {
   "cell_type": "code",
   "execution_count": 69,
   "id": "089f87b3-4657-40b6-86bc-99491e1a39bd",
   "metadata": {},
   "outputs": [
    {
     "data": {
      "text/plain": [
       "<Axes: >"
      ]
     },
     "execution_count": 69,
     "metadata": {},
     "output_type": "execute_result"
    },
    {
     "data": {
      "image/png": "[encoded data removed]",
      "text/plain": [
       "<Figure size 640x480 with 1 Axes>"
      ]
     },
     "metadata": {},
     "output_type": "display_data"
    }
   ],
   "source": [
    "curve = pd.DataFrame(rmse_val)\n",
    "curve.plot()"
   ]
  },
  {
   "cell_type": "code",
   "execution_count": 70,
   "id": "8e51cc64-b806-4c50-a49b-7a26dd888bb0",
   "metadata": {},
   "outputs": [],
   "source": [
    "def sigmoid(x):\n",
    "    return 1/(1+np.exp(-x))"
   ]
  },
  {
   "cell_type": "code",
   "execution_count": 71,
   "id": "a28fd979-fb2c-4a7a-89aa-e66f161ac3d7",
   "metadata": {},
   "outputs": [
    {
     "name": "stdout",
     "output_type": "stream",
     "text": [
      "[ 0.00379136 -0.00654871  0.03963695 ...  0.36465993  0.22587316\n",
      "  0.37706801]\n",
      "1024\n"
     ]
    }
   ],
   "source": [
    "line = np.linspace(1, 1024, 1024).reshape(-1, 1)\n",
    "\n",
    "reg = KNeighborsRegressor(n_neighbors=17, weights='distance')\n",
    "reg.fit(X_train, y_train)\n",
    "standard = reg.predict(line)\n",
    "print(standard)\n",
    "print(len(standard))"
   ]
  },
  {
   "cell_type": "code",
   "execution_count": 72,
   "id": "134ca838-6e14-422b-adda-e13a77ad5ebb",
   "metadata": {},
   "outputs": [
    {
     "data": {
      "text/plain": [
       "0.4864397799297683"
      ]
     },
     "execution_count": 72,
     "metadata": {},
     "output_type": "execute_result"
    }
   ],
   "source": [
    "sigma = np.std(standard)\n",
    "sigma"
   ]
  },
  {
   "cell_type": "code",
   "execution_count": 73,
   "id": "d8633a06-7806-4647-b628-af752123b057",
   "metadata": {},
   "outputs": [],
   "source": [
    "min_standard = standard - 3*sigma\n",
    "max_standard = standard + 3*sigma"
   ]
  },
  {
   "cell_type": "code",
   "execution_count": 74,
   "id": "a22e1544-e64b-4e37-95a8-08e0bfeb2ae2",
   "metadata": {},
   "outputs": [],
   "source": [
    "min_standard_list = []\n",
    "j = 0\n",
    "\n",
    "for i in range(len(y_test)):\n",
    "    min_standard_list.append(min_standard[j])\n",
    "    j += 1\n",
    "    if j == len(min_standard):\n",
    "        j = 0"
   ]
  },
  {
   "cell_type": "code",
   "execution_count": 75,
   "id": "e26de0df-9821-4481-acce-8dc9e9b601d1",
   "metadata": {},
   "outputs": [],
   "source": [
    "max_standard_list = []\n",
    "j = 0\n",
    "\n",
    "for i in range(len(y_test)):\n",
    "    max_standard_list.append(max_standard[j])\n",
    "    j += 1\n",
    "    if j == len(max_standard):\n",
    "        j = 0"
   ]
  },
  {
   "cell_type": "code",
   "execution_count": 76,
   "id": "c566491a-8f42-495e-a9da-4139d3fe4a91",
   "metadata": {},
   "outputs": [],
   "source": [
    "standard_list = []\n",
    "\n",
    "j=0\n",
    "for i in range(len(y_test)):\n",
    "    standard_list.append(standard[j])\n",
    "    j += 1\n",
    "    if j == len(standard):\n",
    "        j = 0"
   ]
  },
  {
   "cell_type": "code",
   "execution_count": 77,
   "id": "76456af8-7803-46a7-91bb-071df8176208",
   "metadata": {},
   "outputs": [
    {
     "data": {
      "text/html": [
       "<div>\n",
       "<style scoped>\n",
       "    .dataframe tbody tr th:only-of-type {\n",
       "        vertical-align: middle;\n",
       "    }\n",
       "\n",
       "    .dataframe tbody tr th {\n",
       "        vertical-align: top;\n",
       "    }\n",
       "\n",
       "    .dataframe thead th {\n",
       "        text-align: right;\n",
       "    }\n",
       "</style>\n",
       "<table border=\"1\" class=\"dataframe\">\n",
       "  <thead>\n",
       "    <tr style=\"text-align: right;\">\n",
       "      <th></th>\n",
       "      <th>real_y</th>\n",
       "      <th>standard</th>\n",
       "      <th>min_standard</th>\n",
       "      <th>max_standard</th>\n",
       "    </tr>\n",
       "  </thead>\n",
       "  <tbody>\n",
       "    <tr>\n",
       "      <th>0</th>\n",
       "      <td>0.638281</td>\n",
       "      <td>0.003791</td>\n",
       "      <td>-1.455528</td>\n",
       "      <td>1.463111</td>\n",
       "    </tr>\n",
       "    <tr>\n",
       "      <th>1</th>\n",
       "      <td>-0.519531</td>\n",
       "      <td>-0.006549</td>\n",
       "      <td>-1.465868</td>\n",
       "      <td>1.452771</td>\n",
       "    </tr>\n",
       "    <tr>\n",
       "      <th>2</th>\n",
       "      <td>0.519531</td>\n",
       "      <td>0.039637</td>\n",
       "      <td>-1.419682</td>\n",
       "      <td>1.498956</td>\n",
       "    </tr>\n",
       "    <tr>\n",
       "      <th>3</th>\n",
       "      <td>0.207813</td>\n",
       "      <td>-0.231273</td>\n",
       "      <td>-1.690592</td>\n",
       "      <td>1.228046</td>\n",
       "    </tr>\n",
       "    <tr>\n",
       "      <th>4</th>\n",
       "      <td>-2.404688</td>\n",
       "      <td>-0.370519</td>\n",
       "      <td>-1.829839</td>\n",
       "      <td>1.088800</td>\n",
       "    </tr>\n",
       "    <tr>\n",
       "      <th>...</th>\n",
       "      <td>...</td>\n",
       "      <td>...</td>\n",
       "      <td>...</td>\n",
       "      <td>...</td>\n",
       "    </tr>\n",
       "    <tr>\n",
       "      <th>70242</th>\n",
       "      <td>0.262500</td>\n",
       "      <td>0.609375</td>\n",
       "      <td>-0.849944</td>\n",
       "      <td>2.068694</td>\n",
       "    </tr>\n",
       "    <tr>\n",
       "      <th>70243</th>\n",
       "      <td>0.273438</td>\n",
       "      <td>0.406365</td>\n",
       "      <td>-1.052954</td>\n",
       "      <td>1.865684</td>\n",
       "    </tr>\n",
       "    <tr>\n",
       "      <th>70244</th>\n",
       "      <td>1.796875</td>\n",
       "      <td>0.485983</td>\n",
       "      <td>-0.973336</td>\n",
       "      <td>1.945303</td>\n",
       "    </tr>\n",
       "    <tr>\n",
       "      <th>70245</th>\n",
       "      <td>2.406250</td>\n",
       "      <td>0.097541</td>\n",
       "      <td>-1.361778</td>\n",
       "      <td>1.556861</td>\n",
       "    </tr>\n",
       "    <tr>\n",
       "      <th>70246</th>\n",
       "      <td>0.742188</td>\n",
       "      <td>-0.355009</td>\n",
       "      <td>-1.814329</td>\n",
       "      <td>1.104310</td>\n",
       "    </tr>\n",
       "  </tbody>\n",
       "</table>\n",
       "<p>70247 rows × 4 columns</p>\n",
       "</div>"
      ],
      "text/plain": [
       "         real_y  standard  min_standard  max_standard\n",
       "0      0.638281  0.003791     -1.455528      1.463111\n",
       "1     -0.519531 -0.006549     -1.465868      1.452771\n",
       "2      0.519531  0.039637     -1.419682      1.498956\n",
       "3      0.207813 -0.231273     -1.690592      1.228046\n",
       "4     -2.404688 -0.370519     -1.829839      1.088800\n",
       "...         ...       ...           ...           ...\n",
       "70242  0.262500  0.609375     -0.849944      2.068694\n",
       "70243  0.273438  0.406365     -1.052954      1.865684\n",
       "70244  1.796875  0.485983     -0.973336      1.945303\n",
       "70245  2.406250  0.097541     -1.361778      1.556861\n",
       "70246  0.742188 -0.355009     -1.814329      1.104310\n",
       "\n",
       "[70247 rows x 4 columns]"
      ]
     },
     "execution_count": 77,
     "metadata": {},
     "output_type": "execute_result"
    }
   ],
   "source": [
    "df = pd.DataFrame({'real_y':y_test, 'standard':standard_list,\n",
    "                   'min_standard':min_standard_list, 'max_standard':max_standard_list})\n",
    "df"
   ]
  },
  {
   "cell_type": "code",
   "execution_count": 80,
   "id": "21bfe2d5-abd8-4bb5-8681-57aff7f582c3",
   "metadata": {},
   "outputs": [],
   "source": [
    "pred_fault = []\n",
    "for i in range(len(df)):\n",
    "    if df['real_y'][i] >= df['max_standard'][i] or df['real_y'][i] <= df['min_standard'][i]: \n",
    "        pred_fault.append(1)\n",
    "    else: pred_fault.append(0)\n",
    "    "
   ]
  },
  {
   "cell_type": "code",
   "execution_count": 81,
   "id": "36341ccc-e376-45ac-a8bc-6086e1cb0658",
   "metadata": {},
   "outputs": [],
   "source": [
    "real_fault = []\n",
    "for i in range(len(df)):\n",
    "    if data['Quality'][280985+i] == \"FAILED\":\n",
    "        real_fault.append(1)\n",
    "    else:\n",
    "        real_fault.append(0)\n",
    "        "
   ]
  },
  {
   "cell_type": "code",
   "execution_count": 82,
   "id": "ff44b805-23ef-4df9-82ba-8f1570262e7b",
   "metadata": {},
   "outputs": [],
   "source": [
    "df['pred_fault'] = pred_fault\n",
    "df['real_fault'] = real_fault\n"
   ]
  },
  {
   "cell_type": "code",
   "execution_count": 86,
   "id": "837b444d-310a-48ec-994f-7152393f0e6c",
   "metadata": {},
   "outputs": [
    {
     "ename": "SyntaxError",
     "evalue": "trailing comma not allowed without surrounding parentheses (1644820208.py, line 1)",
     "output_type": "error",
     "traceback": [
      "\u001b[1;36m  Cell \u001b[1;32mIn[86], line 1\u001b[1;36m\u001b[0m\n\u001b[1;33m    from sklearn.metrics import accuracy_score, precision_score,\u001b[0m\n\u001b[1;37m                                                                 ^\u001b[0m\n\u001b[1;31mSyntaxError\u001b[0m\u001b[1;31m:\u001b[0m trailing comma not allowed without surrounding parentheses\n"
     ]
    }
   ],
   "source": [
    "from sklearn.metrics import accuracy_score, precision_score, \n",
    "    recall_score, \n",
    "    f1_score,\n",
    "    confusion_matrix, \n",
    "    classification_report\n",
    "\n",
    "import seaborn as sns\n",
    "sns.set(font_scale=2)"
   ]
  },
  {
   "cell_type": "code",
   "execution_count": null,
   "id": "f328a28d-7e81-4690-9c67-3547130949a6",
   "metadata": {},
   "outputs": [],
   "source": []
  }
 ],
 "metadata": {
  "kernelspec": {
   "display_name": "py3",
   "language": "python",
   "name": "py3"
  },
  "language_info": {
   "codemirror_mode": {
    "name": "ipython",
    "version": 3
   },
   "file_extension": ".py",
   "mimetype": "text/x-python",
   "name": "python",
   "nbconvert_exporter": "python",
   "pygments_lexer": "ipython3",
   "version": "3.10.14"
  }
 },
 "nbformat": 4,
 "nbformat_minor": 5
}
